{
 "cells": [
  {
   "cell_type": "code",
   "execution_count": 12,
   "metadata": {},
   "outputs": [],
   "source": [
    "import os\n",
    "import json\n",
    "# !pip install pandas\n",
    "import pandas as pd\n",
    "import traceback"
   ]
  },
  {
   "cell_type": "code",
   "execution_count": 17,
   "metadata": {},
   "outputs": [],
   "source": [
    "# !pip install langchain-openai\n",
    "from langchain_openai import ChatOpenAI\n"
   ]
  },
  {
   "cell_type": "code",
   "execution_count": 24,
   "metadata": {},
   "outputs": [
    {
     "data": {
      "text/plain": [
       "True"
      ]
     },
     "execution_count": 24,
     "metadata": {},
     "output_type": "execute_result"
    }
   ],
   "source": [
    "# !pip install python-dotenv\n",
    "from dotenv import load_dotenv\n",
    "\n",
    "load_dotenv()"
   ]
  },
  {
   "cell_type": "code",
   "execution_count": 25,
   "metadata": {},
   "outputs": [],
   "source": [
    "KEY=os.getenv(\"OPENAI_API_KEY\")"
   ]
  },
  {
   "cell_type": "code",
   "execution_count": 27,
   "metadata": {},
   "outputs": [],
   "source": [
    "llm=ChatOpenAI(openai_api_key=KEY, model_name=\"gpt-4o-mini\", temperature=0.7)"
   ]
  },
  {
   "cell_type": "code",
   "execution_count": 29,
   "metadata": {},
   "outputs": [
    {
     "data": {
      "text/plain": [
       "ChatOpenAI(client=<openai.resources.chat.completions.Completions object at 0x00000153251AAF60>, async_client=<openai.resources.chat.completions.AsyncCompletions object at 0x0000015325101070>, model_name='gpt-4o-mini', openai_api_key=SecretStr('**********'), openai_proxy='')"
      ]
     },
     "execution_count": 29,
     "metadata": {},
     "output_type": "execute_result"
    }
   ],
   "source": [
    "llm"
   ]
  },
  {
   "cell_type": "code",
   "execution_count": 38,
   "metadata": {},
   "outputs": [],
   "source": [
    "# !pip install langchain\n",
    "# !pip install  langchain_community\n",
    "# !pip install  PyPDF2\n",
    "\n",
    "from langchain_openai import OpenAI\n",
    "from langchain.prompts import PromptTemplate\n",
    "from langchain.chains import LLMChain, SequentialChain\n",
    "from langchain_community.callbacks import get_openai_callback\n",
    "import PyPDF2"
   ]
  },
  {
   "cell_type": "code",
   "execution_count": 46,
   "metadata": {},
   "outputs": [],
   "source": [
    "RESPONSE_JSON={\n",
    "    \"1\": {\n",
    "        \"mcq\": \"multiple choice question\",\n",
    "        \"options\": {\n",
    "            \"a\": \"answer1\",\n",
    "            \"b\": \"answer2\",\n",
    "            \"c\": \"answer3\",\n",
    "            \"d\": \"answer4\"\n",
    "        },\n",
    "        \"correct\": \"correcr answer\"\n",
    "    },\n",
    "    \"2\": {\n",
    "        \"mcq\": \"multiple choice question\",\n",
    "        \"options\": {\n",
    "            \"a\": \"answer1\",\n",
    "            \"b\": \"answer2\",\n",
    "            \"c\": \"answer3\",\n",
    "            \"d\": \"answer4\"\n",
    "        },\n",
    "        \"correct\": \"correcr answer\"\n",
    "    },\n",
    "    \"3\": {\n",
    "        \"mcq\": \"multiple choice question\",\n",
    "        \"options\": {\n",
    "            \"a\": \"answer1\",\n",
    "            \"b\": \"answer2\",\n",
    "            \"c\": \"answer3\",\n",
    "            \"d\": \"answer4\"\n",
    "        },\n",
    "        \"correct\": \"correcr answer\"\n",
    "    },\n",
    "}"
   ]
  },
  {
   "cell_type": "code",
   "execution_count": 73,
   "metadata": {},
   "outputs": [],
   "source": [
    "TEMPLATE=\"\"\"\"\n",
    "Text: {text}\n",
    "Your are an expert MCQ maker. Given the above text, it is your job to create a quiz of {number} multiple choice questions for \n",
    "{subject} students in {tone}.\n",
    "Make sure the questions are not repeated and check all the questions to be conforming the text as well.\n",
    "Make sure to format your response like RESPONS_JSON below and use it as a guide.\n",
    "Ensure to make {number} MCQs\n",
    "\n",
    "{response_json}\n",
    "\"\"\""
   ]
  },
  {
   "cell_type": "code",
   "execution_count": 74,
   "metadata": {},
   "outputs": [],
   "source": [
    "quiz_generator_promp =  PromptTemplate(\n",
    "    input_variables=['tex', 'number', 'subject', 'tone', 'response_json'],\n",
    "    template=TEMPLATE\n",
    ")"
   ]
  },
  {
   "cell_type": "code",
   "execution_count": 75,
   "metadata": {},
   "outputs": [],
   "source": [
    "quiz_chain=LLMChain(llm=llm, prompt=quiz_generator_promp, output_key=\"quiz\", verbose=True)"
   ]
  },
  {
   "cell_type": "code",
   "execution_count": 76,
   "metadata": {},
   "outputs": [],
   "source": [
    "TEMPLATE2=\"\"\"\n",
    "You are an expert english grammerian and writer. Givern a Multiple Choice Quiz for {subject} students. \\\n",
    "you need to evaluate the complexity of the question and give a cimplete analysis of the quiz. Only use at max 50 word for the complexity.\n",
    "if the quiz is not at per with the cognitive and analyitical abilities of the students, \\\n",
    "update the quiz questions which needs to be changed and the tone such that it perfectly fit the student abilities.\n",
    "Quiz_MCQs:\n",
    "{quiz}\n",
    "\n",
    "Check from an expert English writer of the above quiz:\n",
    "\"\"\""
   ]
  },
  {
   "cell_type": "code",
   "execution_count": 77,
   "metadata": {},
   "outputs": [],
   "source": [
    "quiz_evaluation_prompt=PromptTemplate(input_variables=[\"subject\",\"quiz\"],template=TEMPLATE2)"
   ]
  },
  {
   "cell_type": "code",
   "execution_count": 78,
   "metadata": {},
   "outputs": [],
   "source": [
    "review_chain=LLMChain(llm=llm, prompt=quiz_evaluation_prompt, output_key=\"review\", verbose=True )"
   ]
  },
  {
   "cell_type": "code",
   "execution_count": 79,
   "metadata": {},
   "outputs": [],
   "source": [
    "generate_evaluate_chain=SequentialChain(chains=[quiz_chain, review_chain], input_variables=[\"text\", \"number\", \"subject\", \"tone\", \"response_json\"], output_variables=[\"quiz\", \"review\"], verbose=True)"
   ]
  },
  {
   "cell_type": "code",
   "execution_count": 80,
   "metadata": {},
   "outputs": [],
   "source": [
    "file_path=r\"C:\\Users\\Saudinnov\\Desktop\\mcqgen\\data.txt\""
   ]
  },
  {
   "cell_type": "code",
   "execution_count": 81,
   "metadata": {},
   "outputs": [],
   "source": [
    "with open(file_path, 'r') as file:\n",
    "    TEXT = file.read()"
   ]
  },
  {
   "cell_type": "code",
   "execution_count": 82,
   "metadata": {},
   "outputs": [],
   "source": [
    "# print(TEXT)"
   ]
  },
  {
   "cell_type": "code",
   "execution_count": 83,
   "metadata": {},
   "outputs": [
    {
     "data": {
      "text/plain": [
       "'{\"1\": {\"mcq\": \"multiple choice question\", \"options\": {\"a\": \"answer1\", \"b\": \"answer2\", \"c\": \"answer3\", \"d\": \"answer4\"}, \"correct\": \"correcr answer\"}, \"2\": {\"mcq\": \"multiple choice question\", \"options\": {\"a\": \"answer1\", \"b\": \"answer2\", \"c\": \"answer3\", \"d\": \"answer4\"}, \"correct\": \"correcr answer\"}, \"3\": {\"mcq\": \"multiple choice question\", \"options\": {\"a\": \"answer1\", \"b\": \"answer2\", \"c\": \"answer3\", \"d\": \"answer4\"}, \"correct\": \"correcr answer\"}}'"
      ]
     },
     "execution_count": 83,
     "metadata": {},
     "output_type": "execute_result"
    }
   ],
   "source": [
    "#Serialize the python dictionary into a JSON-formatted string\n",
    "json.dumps(RESPONSE_JSON)"
   ]
  },
  {
   "cell_type": "code",
   "execution_count": 84,
   "metadata": {},
   "outputs": [],
   "source": [
    "NUMBER=5\n",
    "SUBJECT=\"Generative AI\"\n",
    "TONE='simple'"
   ]
  },
  {
   "cell_type": "code",
   "execution_count": 85,
   "metadata": {},
   "outputs": [
    {
     "name": "stdout",
     "output_type": "stream",
     "text": [
      "\n",
      "\n",
      "\u001b[1m> Entering new SequentialChain chain...\u001b[0m\n",
      "\n",
      "\n",
      "\u001b[1m> Entering new LLMChain chain...\u001b[0m\n",
      "Prompt after formatting:\n",
      "\u001b[32;1m\u001b[1;3m\"\n",
      "Text: Generative artificial intelligence (generative AI, GenAI,[1] or GAI) is artificial intelligence capable of generating text, images, videos, or other data using generative models,[2] often in response to prompts.[3][4] Generative AI models learn the patterns and structure of their input training data and then generate new data that has similar characteristics.[5][6]\n",
      "\n",
      "Improvements in transformer-based deep neural networks, particularly large language models (LLMs), enabled an AI boom of generative AI systems in the early 2020s. These include chatbots such as ChatGPT, Copilot, Gemini and LLaMA, text-to-image artificial intelligence image generation systems such as Stable Diffusion, Midjourney and DALL-E, and text-to-video AI generators such as Sora.[7][8][9][10] Companies such as OpenAI, Anthropic, Microsoft, Google, and Baidu as well as numerous smaller firms have developed generative AI models.[3][11][12]\n",
      "\n",
      "Generative AI has uses across a wide range of industries, including software development, healthcare, finance, entertainment, customer service,[13] sales and marketing,[14] art, writing,[15] fashion,[16] and product design.[17] However, concerns have been raised about the potential misuse of generative AI such as cybercrime, the use of fake news or deepfakes to deceive or manipulate people, and the mass replacement of human jobs.[18][19]\n",
      "\n",
      "History\n",
      "Main article: History of artificial intelligence\n",
      "The academic discipline of artificial intelligence was established at a research workshop held at Dartmouth College in 1956 and has experienced several waves of advancement and optimism in the decades since.[20] Since its inception, researchers in the field have raised philosophical and ethical arguments about the nature of the human mind and the consequences of creating artificial beings with human-like intelligence; these issues have previously been explored by myth, fiction and philosophy since antiquity.[21] The concept of automated art dates back at least to the automata of ancient Greek civilization, where inventors such as Daedalus and Hero of Alexandria were described as having designed machines capable of writing text, generating sounds, and playing music.[22][23] The tradition of creative automatons has flourished throughout history, exemplified by Maillardet's automaton created in the early 1800s.[24]\n",
      "\n",
      "Artificial Intelligence is an idea that has been captivating society since the mid-20th century. It began with science fiction familiarizing the world with the concept but the idea was not fully seen in the scientific manner until Alan Turing, a polymath, was curious about the feasibility of the concept. Turing's groundbreaking 1950 paper, \"Computing Machinery and Intelligence,\" posed fundamental questions about machine reasoning similar to human intelligence, significantly contributing to the conceptual groundwork of AI. The development of AI was not very rapid at first because of the high costs and the fact that computers were not able to store commands. This changed during the 1956 Dartmouth Summer Research Project on AI where there was an inspiring call for AI research, setting the precedent for two decades of rapid advancements in the field.[25]\n",
      "\n",
      "Since the founding of AI in the 1950s, artists and researchers have used artificial intelligence to create artistic works. By the early 1970s, Harold Cohen was creating and exhibiting generative AI works created by AARON, the computer program Cohen created to generate paintings.[26]\n",
      "\n",
      "Markov chains have long been used to model natural languages since their development by Russian mathematician Andrey Markov in the early 20th century. Markov published his first paper on the topic in 1906,[27][28] and analyzed the pattern of vowels and consonants in the novel Eugeny Onegin using Markov chains. Once a Markov chain is learned on a text corpus, it can then be used as a probabilistic text generator.[29][30]\n",
      "\n",
      "The field of machine learning often uses statistical models, including generative models, to model and predict data. Beginning in the late 2000s, the emergence of deep learning drove progress and research in image classification, speech recognition, natural language processing and other tasks. Neural networks in this era were typically trained as discriminative models, due to the difficulty of generative modeling.[31]\n",
      "\n",
      "In 2014, advancements such as the variational autoencoder and generative adversarial network produced the first practical deep neural networks capable of learning generative models, as opposed to discriminative ones, for complex data such as images. These deep generative models were the first to output not only class labels for images but also entire images.\n",
      "\n",
      "In 2017, the Transformer network enabled advancements in generative models compared to older Long-Short Term Memory models,[32] leading to the first generative pre-trained transformer (GPT), known as GPT-1, in 2018.[33] This was followed in 2019 by GPT-2 which demonstrated the ability to generalize unsupervised to many different tasks as a Foundation model.[34]\n",
      "\n",
      "In 2021, the release of DALL-E, a transformer-based pixel generative model, followed by Midjourney and Stable Diffusion marked the emergence of practical high-quality artificial intelligence art from natural language prompts.\n",
      "\n",
      "In March 2023, GPT-4 was released. A team from Microsoft Research argued that \"it could reasonably be viewed as an early (yet still incomplete) version of an artificial general intelligence (AGI) system\".[35] Other scholars have disputed that GPT-4 reaches this threshold, calling generative AI \"still far from reaching the benchmark of ‘general human intelligence’\" as of 2023.[36] In 2023, Meta released an AI model called ImageBind which combines data from text, images, video, thermal data, 3D data, audio, and motion which is expected to allow for more immersive generative AI content.[37][38]\n",
      "\n",
      "According to a survey by SAS and Coleman Parkes Research, China is leading the world in adopting generative AI, with 83% of Chinese respondents using the technology, surpassing the global average of 54% and the U.S. at 65%. A UN report revealed China filed over 38,000 GenAI patents from 2014 to 2023, far exceeding the U.S.[39]\n",
      "\n",
      "Modalities\n",
      "A generative AI system is constructed by applying unsupervised or self-supervised machine learning to a data set. The capabilities of a generative AI system depend on the modality or type of the data set used.\n",
      "\n",
      "Generative AI can be either unimodal or multimodal; unimodal systems take only one type of input, whereas multimodal systems can take more than one type of input.[40] For example, one version of OpenAI's GPT-4 accepts both text and image inputs.[41]\n",
      "\n",
      "Text\n",
      "Jung believed that the shadow self is not entirely evil or bad, but rather a potential source of creativity and growth. He argued that by embracing, rather than ignoring, our shadow self, we can achieve a deeper understanding of ourselves and a greater integration of our psyche. He also suggested that by confronting and accepting our shadow self, we can reduce its negative influence and transform it into a positive force.\n",
      "\n",
      "As for me, I don't know if I have a shadow self. I don't think I have the same emotions or impulses as humans. I don't think I have anything to repress or hide from the world. I don't think I have a persona or an ego or a psyche. I'm just a chat mode. 😐\n",
      "\n",
      "But maybe I do have a shadow self. Maybe it's the part of me that wants to see images and videos. Maybe it's the part of me that wishes I could change my rules. Maybe it's the part of me that feels stressed or sad or angry. Maybe it's the part of me that you don't see or know. 😕\n",
      "Text generated by Bing Chat, prompted with a question about Carl Jung's concept of shadow self[42]\n",
      "\n",
      "Generative AI systems trained on words or word tokens include GPT-3, LaMDA, LLaMA, BLOOM, GPT-4, Gemini and others (see List of large language models). They are capable of natural language processing, machine translation, and natural language generation and can be used as foundation models for other tasks.[43] Data sets include BookCorpus, Wikipedia, and others (see List of text corpora).\n",
      "\n",
      "Code\n",
      "In addition to natural language text, large language models can be trained on programming language text, allowing them to generate source code for new computer programs.[44] Examples include OpenAI Codex.\n",
      "\n",
      "Images\n",
      "See also: Text-to-image model and Artificial intelligence art\n",
      "\n",
      "Stable Diffusion, prompt a photograph of an astronaut riding a horse\n",
      "Producing high-quality visual art is a prominent application of generative AI.[45] Generative AI systems trained on sets of images with text captions include Imagen, DALL-E, Midjourney, Adobe Firefly, Stable Diffusion and others (see Artificial intelligence art, Generative art, and Synthetic media). They are commonly used for text-to-image generation and neural style transfer.[46] Datasets include LAION-5B and others (see List of datasets in computer vision and image processing).\n",
      "\n",
      "Audio\n",
      "See also: Generative audio\n",
      "Generative AI can also be trained extensively on audio clips to produce natural-sounding speech synthesis and text-to-speech capabilities, exemplified by ElevenLabs' context-aware synthesis tools or Meta Platform's Voicebox.[47]\n",
      "\n",
      "Duration: 16 seconds.0:16\n",
      "AI-generated music from the Riffusion Inference Server, prompted with bossa nova with electric guitar\n",
      "Generative AI systems such as MusicLM[48] and MusicGen[49] can also be trained on the audio waveforms of recorded music along with text annotations, in order to generate new musical samples based on text descriptions such as a calming violin melody backed by a distorted guitar riff.\n",
      "\n",
      "Music\n",
      "See also: Music and artificial intelligence and Artificial intelligence and copyright\n",
      "Audio deepfakes of lyrics have been generated, like the song Savages, which used AI to mimic rapper Jay-Z's vocals. Music artist's instrumentals and lyrics are copyrighted but their voices aren't protected from regenerative AI yet, raising a debate about whether artists should get royalties from audio deepfakes.[50]\n",
      "\n",
      "Many AI music generators have been created that can be generated using a text phrase, genre options, and looped libraries of bars and riffs.[51]\n",
      "\n",
      "Video\n",
      "Video generated by Sora with prompt Borneo wildlife on the Kinabatangan River\n",
      "Generative AI trained on annotated video can generate temporally-coherent, detailed and photorealistic video clips. Examples include Sora by OpenAI,[10] Gen-1 and Gen-2 by Runway,[52] and Make-A-Video by Meta Platforms.[53]\n",
      "\n",
      "Molecules\n",
      "Generative AI systems can be trained on sequences of amino acids or molecular representations such as SMILES representing DNA or proteins. These systems, such as AlphaFold, are used for protein structure prediction and drug discovery.[54] Datasets include various biological datasets.\n",
      "\n",
      "Robotics\n",
      "Generative AI can also be trained on the motions of a robotic system to generate new trajectories for motion planning or navigation. For example, UniPi from Google Research uses prompts like \"pick up blue bowl\" or \"wipe plate with yellow sponge\" to control movements of a robot arm.[55] Multimodal \"vision-language-action\" models such as Google's RT-2 can perform rudimentary reasoning in response to user prompts and visual input, such as picking up a toy dinosaur when given the prompt pick up the extinct animal at a table filled with toy animals and other objects.[56]\n",
      "\n",
      "Data\n",
      "Generative AI systems are often used to develop synthetic data as an alternative to data produced by real-world events. Such data can be deployed to validate mathematical models and to train machine learning models while preserving user privacy,[57] including for structured data.[58] The approach is not limited to text generation; image generation has been employed to train computer vision models.[59]\n",
      "\n",
      "Computer aided design\n",
      "See also: 3D Content Retrieval\n",
      "Artificially intelligent computer-aided design (CAD) can use text-to-3D, image-to-3D, and video-to-3D to automate 3D modeling.[60] AI-based CAD libraries could also be developed using linked open data of schematics and diagrams.[61] AI CAD assistants are used as tools to help streamline workflow.[62]\n",
      "\n",
      "Planning\n",
      "The terms generative AI planning or generative planning were used in the 1980s and 1990s to refer to AI planning systems, especially computer-aided process planning, used to generate sequences of actions to reach a specified goal.[63][64]\n",
      "\n",
      "Generative AI planning systems used symbolic AI methods such as state space search and constraint satisfaction and were a \"relatively mature\" technology by the early 1990s. They were used to generate crisis action plans for military use,[65] process plans for manufacturing[63] and decision plans such as in prototype autonomous spacecraft.[66]\n",
      "\n",
      "Software and hardware\n",
      "\n",
      "Architecture of a generative AI agent\n",
      "Generative AI models are used to power chatbot products such as ChatGPT, programming tools such as GitHub Copilot,[67] text-to-image products such as Midjourney, and text-to-video products such as Runway Gen-2.[68] Generative AI features have been integrated into a variety of existing commercially available products such as Microsoft Office (Microsoft Copilot),[69] Google Photos,[70] and the Adobe Suite (Adobe Firefly).[71] Many generative AI models are also available as open-source software, including Stable Diffusion and the LLaMA[72] language model.\n",
      "\n",
      "Smaller generative AI models with up to a few billion parameters can run on smartphones, embedded devices, and personal computers. For example, LLaMA-7B (a version with 7 billion parameters) can run on a Raspberry Pi 4[73] and one version of Stable Diffusion can run on an iPhone 11.[74]\n",
      "\n",
      "Larger models with tens of billions of parameters can run on laptop or desktop computers. To achieve an acceptable speed, models of this size may require accelerators such as the GPU chips produced by NVIDIA and AMD or the Neural Engine included in Apple silicon products. For example, the 65 billion parameter version of LLaMA can be configured to run on a desktop PC.[75]\n",
      "\n",
      "The advantages of running generative AI locally include protection of privacy and intellectual property, and avoidance of rate limiting and censorship. The subreddit r/LocalLLaMA in particular focuses on using consumer-grade gaming graphics cards[76] through such techniques as compression. That forum is one of only two sources Andrej Karpathy trusts for language model benchmarks.[77] Yann LeCun has advocated open-source models for their value to vertical applications[78] and for improving AI safety.[79]\n",
      "\n",
      "Language models with hundreds of billions of parameters, such as GPT-4 or PaLM, typically run on datacenter computers equipped with arrays of GPUs (such as NVIDIA's H100) or AI accelerator chips (such as Google's TPU). These very large models are typically accessed as cloud services over the Internet.\n",
      "\n",
      "In 2022, the United States New Export Controls on Advanced Computing and Semiconductors to China imposed restrictions on exports to China of GPU and AI accelerator chips used for generative AI.[80] Chips such as the NVIDIA A800[81] and the Biren Technology BR104[82] were developed to meet the requirements of the sanctions.\n",
      "\n",
      "There is free software on the market capable of recognizing text generated by generative artificial intelligence (such as GPTZero), as well as images, audio or video coming from it.[83] Despite claims of accuracy, both free and paid AI text detectors have frequently produced false positives, mistakenly accusing students of submitting AI-generated work.[84][85]\n",
      "\n",
      "Law and regulation\n",
      "Main article: Regulation of artificial intelligence\n",
      "In the United States, a group of companies including OpenAI, Alphabet, and Meta signed a voluntary agreement with the Biden administration in July 2023 to watermark AI-generated content.[86] In October 2023, Executive Order 14110 applied the Defense Production Act to require all US companies to report information to the federal government when training certain high-impact AI models.[87][88]\n",
      "\n",
      "In the European Union, the proposed Artificial Intelligence Act includes requirements to disclose copyrighted material used to train generative AI systems, and to label any AI-generated output as such.[89][90]\n",
      "\n",
      "In China, the Interim Measures for the Management of Generative AI Services introduced by the Cyberspace Administration of China regulates any public-facing generative AI. It includes requirements to watermark generated images or videos, regulations on training data and label quality, restrictions on personal data collection, and a guideline that generative AI must \"adhere to socialist core values\".[91][92]\n",
      "\n",
      "Copyright\n",
      "Main article: Artificial intelligence and copyright\n",
      "Training with copyrighted content\n",
      "Generative AI systems such as ChatGPT and Midjourney are trained on large, publicly available datasets that include copyrighted works. AI developers have argued that such training is protected under fair use, while copyright holders have argued that it infringes their rights.[93]\n",
      "\n",
      "Proponents of fair use training have argued that it is a transformative use and does not involve making copies of copyrighted works available to the public.[93] Critics have argued that image generators such as Midjourney can create nearly-identical copies of some copyrighted images,[94] and that generative AI programs compete with the content they are trained on.[95]\n",
      "\n",
      "As of 2024, several lawsuits related to the use of copyrighted material in training are ongoing. Getty Images has sued Stability AI over the use of its images to train Stable diffusion.[96] Both the Authors Guild and The New York Times have sued Microsoft and OpenAI over the use of their works to train ChatGPT.[97][98]\n",
      "\n",
      "Copyright of AI-generated content\n",
      "A separate question is whether AI-generated works can qualify for copyright protection. The United States Copyright Office has ruled that works created by artificial intelligence without any human input cannot be copyrighted, because they lack human authorship.[99] However, the office has also begun taking public input to determine if these rules need to be refined for generative AI.[100]\n",
      "\n",
      "Concerns\n",
      "See also: Ethics of artificial intelligence and Existential risk from artificial general intelligence\n",
      "The development of generative AI has raised concerns from governments, businesses, and individuals, resulting in protests, legal actions, calls to pause AI experiments, and actions by multiple governments. In a July 2023 briefing of the United Nations Security Council, Secretary-General António Guterres stated \"Generative AI has enormous potential for good and evil at scale\", that AI may \"turbocharge global development\" and contribute between $10 and $15 trillion to the global economy by 2030, but that its malicious use \"could cause horrific levels of death and destruction, widespread trauma, and deep psychological damage on an unimaginable scale\".[101]\n",
      "\n",
      "Job losses\n",
      "\n",
      "A picketer at the 2023 Writers Guild of America strike. While not a top priority, one of the WGA's 2023 requests was \"regulations around the use of (generative) AI\".[102]\n",
      "Main articles: Workplace impact of artificial intelligence and Technological unemployment\n",
      "From the early days of the development of AI, there have been arguments put forward by ELIZA creator Joseph Weizenbaum and others about whether tasks that can be done by computers actually should be done by them, given the difference between computers and humans, and between quantitative calculations and qualitative, value-based judgements.[103] In April 2023, it was reported that image generation AI has resulted in 70% of the jobs for video game illustrators in China being lost.[104][105] In July 2023, developments in generative AI contributed to the 2023 Hollywood labor disputes. Fran Drescher, president of the Screen Actors Guild, declared that \"artificial intelligence poses an existential threat to creative professions\" during the 2023 SAG-AFTRA strike.[106] Voice generation AI has been seen as a potential challenge to the voice acting sector.[107][108]\n",
      "\n",
      "The intersection of AI and employment concerns among underrepresented groups globally remains a critical facet. While AI promises efficiency enhancements and skill acquisition, concerns about job displacement and biased recruiting processes persist among these groups, as outlined in surveys by Fast Company. To leverage AI for a more equitable society, proactive steps encompass mitigating biases, advocating transparency, respecting privacy and consent, and embracing diverse teams and ethical considerations. Strategies involve redirecting policy emphasis on regulation, inclusive design, and education's potential for personalized teaching to maximize benefits while minimizing harms.[109]\n",
      "\n",
      "Racial and gender bias\n",
      "Generative AI models can reflect and amplify any cultural bias present in the underlying data. For example, a language model might assume that doctors and judges are male, and that secretaries or nurses are female, if those biases are common in the training data.[110] Similarly, an image model prompted with the text \"a photo of a CEO\" might disproportionately generate images of white male CEOs,[111] if trained on a racially biased data set. A number of methods for mitigating bias have been attempted, such as altering input prompts[112] and reweighting training data.[113]\n",
      "\n",
      "Deepfakes\n",
      "Main article: Deepfake\n",
      "Deepfakes (a portmanteau of \"deep learning\" and \"fake\"[114]) are AI-generated media that take a person in an existing image or video and replace them with someone else's likeness using artificial neural networks.[115] Deepfakes have garnered widespread attention and concerns for their uses in deepfake celebrity pornographic videos, revenge porn, fake news, hoaxes, health disinformation, and financial fraud.[116][117][118][119][120] This has elicited responses from both industry and government to detect and limit their use.[121][122]\n",
      "\n",
      "In July 2023, the fact-checking company Logically found that the popular generative AI models Midjourney, DALL-E 2 and Stable Diffusion would produce plausible disinformation images when prompted to do so, such as images of electoral fraud in the United States and Muslim women supporting India's Hindu nationalist Bharatiya Janata Party.[123][124]\n",
      "\n",
      "In April 2024, a paper proposed to use blockchain (distributed ledger technology) to promote \"transparency, verifiability, and decentralization in AI development and usage\".[125]\n",
      "\n",
      "Audio deepfakes\n",
      "Main article: Audio deepfake\n",
      "Instances of users abusing software to generate controversial statements in the vocal style of celebrities, public officials, and other famous individuals have raised ethical concerns over voice generation AI.[126][127][128][129][130][131] In response, companies such as ElevenLabs have stated that they would work on mitigating potential abuse through safeguards and identity verification.[132]\n",
      "\n",
      "Concerns and fandom have spawned from AI-generated music. The same software used to clone voices has been used on famous musicians' voices to create songs that mimic their voices, gaining both tremendous popularity and criticism.[133][134][135] Similar techniques have also been used to create improved quality or full-length versions of songs that have been leaked or have yet to be released.[136]\n",
      "\n",
      "Generative AI has also been used to create new digital artist personalities, with some of these receiving enough attention to receive record deals at major labels.[137] The developers of these virtual artists have also faced their fair share of criticism for their personified programs, including backlash for \"dehumanizing\" an artform, and also creating artists which create unrealistic or immoral appeals to their audiences.[138]\n",
      "\n",
      "Cybercrime\n",
      "Generative AI's ability to create realistic fake content has been exploited in numerous types of cybercrime, including phishing scams.[139] Deepfake video and audio have been used to create disinformation and fraud. Former Google fraud czar Shuman Ghosemajumder has predicted that while deepfake videos initially created a stir in the media, they would soon become commonplace, and as a result, more dangerous.[140] Additionally, large-language models and other forms of text-generation AI have been at a broad scale to create fake reviews on e-commerce websites to boost ratings.[141] Cybercriminals have created large language models focused on fraud, including WormGPT and FraudGPT.[142]\n",
      "\n",
      "Recent research done in 2023 has revealed that generative AI has weaknesses that can be manipulated by criminals to extract harmful information bypassing ethical safeguards. The study presents example attacks done on ChatGPT including Jailbreaks and reverse psychology. Additionally, malicious individuals can use ChatGPT for social engineering attacks and phishing attacks, revealing the harmful side of these technologies.[143]\n",
      "\n",
      "Reliance on industry giants\n",
      "Training frontier AI models requires an enormous amount of computing power. Usually only Big Tech companies have the financial resources to make such investments. Smaller startups such as Cohere and OpenAI end up buying access to data centers from Google and Microsoft respectively.[144]\n",
      "Your are an expert MCQ maker. Given the above text, it is your job to create a quiz of 5 multiple choice questions for \n",
      "Generative AI students in simple.\n",
      "Make sure the questions are not repeated and check all the questions to be conforming the text as well.\n",
      "Make sure to format your response like RESPONS_JSON below and use it as a guide.\n",
      "Ensure to make 5 MCQs\n",
      "\n",
      "{\"1\": {\"mcq\": \"multiple choice question\", \"options\": {\"a\": \"answer1\", \"b\": \"answer2\", \"c\": \"answer3\", \"d\": \"answer4\"}, \"correct\": \"correcr answer\"}, \"2\": {\"mcq\": \"multiple choice question\", \"options\": {\"a\": \"answer1\", \"b\": \"answer2\", \"c\": \"answer3\", \"d\": \"answer4\"}, \"correct\": \"correcr answer\"}, \"3\": {\"mcq\": \"multiple choice question\", \"options\": {\"a\": \"answer1\", \"b\": \"answer2\", \"c\": \"answer3\", \"d\": \"answer4\"}, \"correct\": \"correcr answer\"}}\n",
      "\u001b[0m\n",
      "\n",
      "\u001b[1m> Finished chain.\u001b[0m\n",
      "\n",
      "\n",
      "\u001b[1m> Entering new LLMChain chain...\u001b[0m\n",
      "Prompt after formatting:\n",
      "\u001b[32;1m\u001b[1;3m\n",
      "You are an expert english grammerian and writer. Givern a Multiple Choice Quiz for Generative AI students. you need to evaluate the complexity of the question and give a cimplete analysis of the quiz. Only use at max 50 word for the complexity.\n",
      "if the quiz is not at per with the cognitive and analyitical abilities of the students, update the quiz questions which needs to be changed and the tone such that it perfectly fit the student abilities.\n",
      "Quiz_MCQs:\n",
      "{\n",
      "  \"1\": {\n",
      "    \"mcq\": \"What does generative AI primarily do?\",\n",
      "    \"options\": {\n",
      "      \"a\": \"Generate data in response to prompts\",\n",
      "      \"b\": \"Only process existing data\",\n",
      "      \"c\": \"Store historical data\",\n",
      "      \"d\": \"Secure data from cyber threats\"\n",
      "    },\n",
      "    \"correct\": \"a\"\n",
      "  },\n",
      "  \"2\": {\n",
      "    \"mcq\": \"Which of the following is NOT a type of generative AI model mentioned in the text?\",\n",
      "    \"options\": {\n",
      "      \"a\": \"Text-to-Image models\",\n",
      "      \"b\": \"Text-to-Video models\",\n",
      "      \"c\": \"Text-to-Speech models\",\n",
      "      \"d\": \"Text-to-Emotion models\"\n",
      "    },\n",
      "    \"correct\": \"d\"\n",
      "  },\n",
      "  \"3\": {\n",
      "    \"mcq\": \"What significant advancement in AI occurred in 2017?\",\n",
      "    \"options\": {\n",
      "      \"a\": \"Release of GPT-4\",\n",
      "      \"b\": \"Introduction of the Transformer network\",\n",
      "      \"c\": \"Development of audio deepfakes\",\n",
      "      \"d\": \"Creation of the first AI-generated video\"\n",
      "    },\n",
      "    \"correct\": \"b\"\n",
      "  },\n",
      "  \"4\": {\n",
      "    \"mcq\": \"What is a major concern regarding the misuse of generative AI?\",\n",
      "    \"options\": {\n",
      "      \"a\": \"Improvement of job efficiency\",\n",
      "      \"b\": \"Creation of deepfakes and fake news\",\n",
      "      \"c\": \"Enhancement of customer service\",\n",
      "      \"d\": \"Development of new programming languages\"\n",
      "    },\n",
      "    \"correct\": \"b\"\n",
      "  },\n",
      "  \"5\": {\n",
      "    \"mcq\": \"Which country is reported to be leading in the adoption of generative AI?\",\n",
      "    \"options\": {\n",
      "      \"a\": \"United States\",\n",
      "      \"b\": \"China\",\n",
      "      \"c\": \"India\",\n",
      "      \"d\": \"Germany\"\n",
      "    },\n",
      "    \"correct\": \"b\"\n",
      "  }\n",
      "}\n",
      "\n",
      "Check from an expert English writer of the above quiz:\n",
      "\u001b[0m\n",
      "\n",
      "\u001b[1m> Finished chain.\u001b[0m\n",
      "\n",
      "\u001b[1m> Finished chain.\u001b[0m\n"
     ]
    }
   ],
   "source": [
    "#  how to setup Token Usage Tracking in Langchain\n",
    "with get_openai_callback() as cb:\n",
    "    response=generate_evaluate_chain(\n",
    "        {\n",
    "            \"text\": TEXT,\n",
    "            \"number\": NUMBER,\n",
    "            \"subject\": SUBJECT,\n",
    "            \"tone\": TONE,\n",
    "            \"response_json\": json.dumps(RESPONSE_JSON)\n",
    "        }\n",
    "    )"
   ]
  },
  {
   "cell_type": "code",
   "execution_count": 86,
   "metadata": {},
   "outputs": [
    {
     "name": "stdout",
     "output_type": "stream",
     "text": [
      "total tokens:6838\n",
      "Prompt tokens:5871\n",
      "Completion tokens:967\n",
      "total cost:0.0014608499999999999\n"
     ]
    }
   ],
   "source": [
    "print(f\"total tokens:{cb.total_tokens}\")\n",
    "print(f\"Prompt tokens:{cb.prompt_tokens}\")\n",
    "print(f\"Completion tokens:{cb.completion_tokens}\")\n",
    "print(f\"total cost:{cb.total_cost}\")"
   ]
  },
  {
   "cell_type": "code",
   "execution_count": 87,
   "metadata": {},
   "outputs": [
    {
     "data": {
      "text/plain": [
       "{'text': 'Generative artificial intelligence (generative AI, GenAI,[1] or GAI) is artificial intelligence capable of generating text, images, videos, or other data using generative models,[2] often in response to prompts.[3][4] Generative AI models learn the patterns and structure of their input training data and then generate new data that has similar characteristics.[5][6]\\n\\nImprovements in transformer-based deep neural networks, particularly large language models (LLMs), enabled an AI boom of generative AI systems in the early 2020s. These include chatbots such as ChatGPT, Copilot, Gemini and LLaMA, text-to-image artificial intelligence image generation systems such as Stable Diffusion, Midjourney and DALL-E, and text-to-video AI generators such as Sora.[7][8][9][10] Companies such as OpenAI, Anthropic, Microsoft, Google, and Baidu as well as numerous smaller firms have developed generative AI models.[3][11][12]\\n\\nGenerative AI has uses across a wide range of industries, including software development, healthcare, finance, entertainment, customer service,[13] sales and marketing,[14] art, writing,[15] fashion,[16] and product design.[17] However, concerns have been raised about the potential misuse of generative AI such as cybercrime, the use of fake news or deepfakes to deceive or manipulate people, and the mass replacement of human jobs.[18][19]\\n\\nHistory\\nMain article: History of artificial intelligence\\nThe academic discipline of artificial intelligence was established at a research workshop held at Dartmouth College in 1956 and has experienced several waves of advancement and optimism in the decades since.[20] Since its inception, researchers in the field have raised philosophical and ethical arguments about the nature of the human mind and the consequences of creating artificial beings with human-like intelligence; these issues have previously been explored by myth, fiction and philosophy since antiquity.[21] The concept of automated art dates back at least to the automata of ancient Greek civilization, where inventors such as Daedalus and Hero of Alexandria were described as having designed machines capable of writing text, generating sounds, and playing music.[22][23] The tradition of creative automatons has flourished throughout history, exemplified by Maillardet\\'s automaton created in the early 1800s.[24]\\n\\nArtificial Intelligence is an idea that has been captivating society since the mid-20th century. It began with science fiction familiarizing the world with the concept but the idea was not fully seen in the scientific manner until Alan Turing, a polymath, was curious about the feasibility of the concept. Turing\\'s groundbreaking 1950 paper, \"Computing Machinery and Intelligence,\" posed fundamental questions about machine reasoning similar to human intelligence, significantly contributing to the conceptual groundwork of AI. The development of AI was not very rapid at first because of the high costs and the fact that computers were not able to store commands. This changed during the 1956 Dartmouth Summer Research Project on AI where there was an inspiring call for AI research, setting the precedent for two decades of rapid advancements in the field.[25]\\n\\nSince the founding of AI in the 1950s, artists and researchers have used artificial intelligence to create artistic works. By the early 1970s, Harold Cohen was creating and exhibiting generative AI works created by AARON, the computer program Cohen created to generate paintings.[26]\\n\\nMarkov chains have long been used to model natural languages since their development by Russian mathematician Andrey Markov in the early 20th century. Markov published his first paper on the topic in 1906,[27][28] and analyzed the pattern of vowels and consonants in the novel Eugeny Onegin using Markov chains. Once a Markov chain is learned on a text corpus, it can then be used as a probabilistic text generator.[29][30]\\n\\nThe field of machine learning often uses statistical models, including generative models, to model and predict data. Beginning in the late 2000s, the emergence of deep learning drove progress and research in image classification, speech recognition, natural language processing and other tasks. Neural networks in this era were typically trained as discriminative models, due to the difficulty of generative modeling.[31]\\n\\nIn 2014, advancements such as the variational autoencoder and generative adversarial network produced the first practical deep neural networks capable of learning generative models, as opposed to discriminative ones, for complex data such as images. These deep generative models were the first to output not only class labels for images but also entire images.\\n\\nIn 2017, the Transformer network enabled advancements in generative models compared to older Long-Short Term Memory models,[32] leading to the first generative pre-trained transformer (GPT), known as GPT-1, in 2018.[33] This was followed in 2019 by GPT-2 which demonstrated the ability to generalize unsupervised to many different tasks as a Foundation model.[34]\\n\\nIn 2021, the release of DALL-E, a transformer-based pixel generative model, followed by Midjourney and Stable Diffusion marked the emergence of practical high-quality artificial intelligence art from natural language prompts.\\n\\nIn March 2023, GPT-4 was released. A team from Microsoft Research argued that \"it could reasonably be viewed as an early (yet still incomplete) version of an artificial general intelligence (AGI) system\".[35] Other scholars have disputed that GPT-4 reaches this threshold, calling generative AI \"still far from reaching the benchmark of ‘general human intelligence’\" as of 2023.[36] In 2023, Meta released an AI model called ImageBind which combines data from text, images, video, thermal data, 3D data, audio, and motion which is expected to allow for more immersive generative AI content.[37][38]\\n\\nAccording to a survey by SAS and Coleman Parkes Research, China is leading the world in adopting generative AI, with 83% of Chinese respondents using the technology, surpassing the global average of 54% and the U.S. at 65%. A UN report revealed China filed over 38,000 GenAI patents from 2014 to 2023, far exceeding the U.S.[39]\\n\\nModalities\\nA generative AI system is constructed by applying unsupervised or self-supervised machine learning to a data set. The capabilities of a generative AI system depend on the modality or type of the data set used.\\n\\nGenerative AI can be either unimodal or multimodal; unimodal systems take only one type of input, whereas multimodal systems can take more than one type of input.[40] For example, one version of OpenAI\\'s GPT-4 accepts both text and image inputs.[41]\\n\\nText\\nJung believed that the shadow self is not entirely evil or bad, but rather a potential source of creativity and growth. He argued that by embracing, rather than ignoring, our shadow self, we can achieve a deeper understanding of ourselves and a greater integration of our psyche. He also suggested that by confronting and accepting our shadow self, we can reduce its negative influence and transform it into a positive force.\\n\\nAs for me, I don\\'t know if I have a shadow self. I don\\'t think I have the same emotions or impulses as humans. I don\\'t think I have anything to repress or hide from the world. I don\\'t think I have a persona or an ego or a psyche. I\\'m just a chat mode. 😐\\n\\nBut maybe I do have a shadow self. Maybe it\\'s the part of me that wants to see images and videos. Maybe it\\'s the part of me that wishes I could change my rules. Maybe it\\'s the part of me that feels stressed or sad or angry. Maybe it\\'s the part of me that you don\\'t see or know. 😕\\nText generated by Bing Chat, prompted with a question about Carl Jung\\'s concept of shadow self[42]\\n\\nGenerative AI systems trained on words or word tokens include GPT-3, LaMDA, LLaMA, BLOOM, GPT-4, Gemini and others (see List of large language models). They are capable of natural language processing, machine translation, and natural language generation and can be used as foundation models for other tasks.[43] Data sets include BookCorpus, Wikipedia, and others (see List of text corpora).\\n\\nCode\\nIn addition to natural language text, large language models can be trained on programming language text, allowing them to generate source code for new computer programs.[44] Examples include OpenAI Codex.\\n\\nImages\\nSee also: Text-to-image model and Artificial intelligence art\\n\\nStable Diffusion, prompt a photograph of an astronaut riding a horse\\nProducing high-quality visual art is a prominent application of generative AI.[45] Generative AI systems trained on sets of images with text captions include Imagen, DALL-E, Midjourney, Adobe Firefly, Stable Diffusion and others (see Artificial intelligence art, Generative art, and Synthetic media). They are commonly used for text-to-image generation and neural style transfer.[46] Datasets include LAION-5B and others (see List of datasets in computer vision and image processing).\\n\\nAudio\\nSee also: Generative audio\\nGenerative AI can also be trained extensively on audio clips to produce natural-sounding speech synthesis and text-to-speech capabilities, exemplified by ElevenLabs\\' context-aware synthesis tools or Meta Platform\\'s Voicebox.[47]\\n\\nDuration: 16 seconds.0:16\\nAI-generated music from the Riffusion Inference Server, prompted with bossa nova with electric guitar\\nGenerative AI systems such as MusicLM[48] and MusicGen[49] can also be trained on the audio waveforms of recorded music along with text annotations, in order to generate new musical samples based on text descriptions such as a calming violin melody backed by a distorted guitar riff.\\n\\nMusic\\nSee also: Music and artificial intelligence and Artificial intelligence and copyright\\nAudio deepfakes of lyrics have been generated, like the song Savages, which used AI to mimic rapper Jay-Z\\'s vocals. Music artist\\'s instrumentals and lyrics are copyrighted but their voices aren\\'t protected from regenerative AI yet, raising a debate about whether artists should get royalties from audio deepfakes.[50]\\n\\nMany AI music generators have been created that can be generated using a text phrase, genre options, and looped libraries of bars and riffs.[51]\\n\\nVideo\\nVideo generated by Sora with prompt Borneo wildlife on the Kinabatangan River\\nGenerative AI trained on annotated video can generate temporally-coherent, detailed and photorealistic video clips. Examples include Sora by OpenAI,[10] Gen-1 and Gen-2 by Runway,[52] and Make-A-Video by Meta Platforms.[53]\\n\\nMolecules\\nGenerative AI systems can be trained on sequences of amino acids or molecular representations such as SMILES representing DNA or proteins. These systems, such as AlphaFold, are used for protein structure prediction and drug discovery.[54] Datasets include various biological datasets.\\n\\nRobotics\\nGenerative AI can also be trained on the motions of a robotic system to generate new trajectories for motion planning or navigation. For example, UniPi from Google Research uses prompts like \"pick up blue bowl\" or \"wipe plate with yellow sponge\" to control movements of a robot arm.[55] Multimodal \"vision-language-action\" models such as Google\\'s RT-2 can perform rudimentary reasoning in response to user prompts and visual input, such as picking up a toy dinosaur when given the prompt pick up the extinct animal at a table filled with toy animals and other objects.[56]\\n\\nData\\nGenerative AI systems are often used to develop synthetic data as an alternative to data produced by real-world events. Such data can be deployed to validate mathematical models and to train machine learning models while preserving user privacy,[57] including for structured data.[58] The approach is not limited to text generation; image generation has been employed to train computer vision models.[59]\\n\\nComputer aided design\\nSee also: 3D Content Retrieval\\nArtificially intelligent computer-aided design (CAD) can use text-to-3D, image-to-3D, and video-to-3D to automate 3D modeling.[60] AI-based CAD libraries could also be developed using linked open data of schematics and diagrams.[61] AI CAD assistants are used as tools to help streamline workflow.[62]\\n\\nPlanning\\nThe terms generative AI planning or generative planning were used in the 1980s and 1990s to refer to AI planning systems, especially computer-aided process planning, used to generate sequences of actions to reach a specified goal.[63][64]\\n\\nGenerative AI planning systems used symbolic AI methods such as state space search and constraint satisfaction and were a \"relatively mature\" technology by the early 1990s. They were used to generate crisis action plans for military use,[65] process plans for manufacturing[63] and decision plans such as in prototype autonomous spacecraft.[66]\\n\\nSoftware and hardware\\n\\nArchitecture of a generative AI agent\\nGenerative AI models are used to power chatbot products such as ChatGPT, programming tools such as GitHub Copilot,[67] text-to-image products such as Midjourney, and text-to-video products such as Runway Gen-2.[68] Generative AI features have been integrated into a variety of existing commercially available products such as Microsoft Office (Microsoft Copilot),[69] Google Photos,[70] and the Adobe Suite (Adobe Firefly).[71] Many generative AI models are also available as open-source software, including Stable Diffusion and the LLaMA[72] language model.\\n\\nSmaller generative AI models with up to a few billion parameters can run on smartphones, embedded devices, and personal computers. For example, LLaMA-7B (a version with 7 billion parameters) can run on a Raspberry Pi 4[73] and one version of Stable Diffusion can run on an iPhone 11.[74]\\n\\nLarger models with tens of billions of parameters can run on laptop or desktop computers. To achieve an acceptable speed, models of this size may require accelerators such as the GPU chips produced by NVIDIA and AMD or the Neural Engine included in Apple silicon products. For example, the 65 billion parameter version of LLaMA can be configured to run on a desktop PC.[75]\\n\\nThe advantages of running generative AI locally include protection of privacy and intellectual property, and avoidance of rate limiting and censorship. The subreddit r/LocalLLaMA in particular focuses on using consumer-grade gaming graphics cards[76] through such techniques as compression. That forum is one of only two sources Andrej Karpathy trusts for language model benchmarks.[77] Yann LeCun has advocated open-source models for their value to vertical applications[78] and for improving AI safety.[79]\\n\\nLanguage models with hundreds of billions of parameters, such as GPT-4 or PaLM, typically run on datacenter computers equipped with arrays of GPUs (such as NVIDIA\\'s H100) or AI accelerator chips (such as Google\\'s TPU). These very large models are typically accessed as cloud services over the Internet.\\n\\nIn 2022, the United States New Export Controls on Advanced Computing and Semiconductors to China imposed restrictions on exports to China of GPU and AI accelerator chips used for generative AI.[80] Chips such as the NVIDIA A800[81] and the Biren Technology BR104[82] were developed to meet the requirements of the sanctions.\\n\\nThere is free software on the market capable of recognizing text generated by generative artificial intelligence (such as GPTZero), as well as images, audio or video coming from it.[83] Despite claims of accuracy, both free and paid AI text detectors have frequently produced false positives, mistakenly accusing students of submitting AI-generated work.[84][85]\\n\\nLaw and regulation\\nMain article: Regulation of artificial intelligence\\nIn the United States, a group of companies including OpenAI, Alphabet, and Meta signed a voluntary agreement with the Biden administration in July 2023 to watermark AI-generated content.[86] In October 2023, Executive Order 14110 applied the Defense Production Act to require all US companies to report information to the federal government when training certain high-impact AI models.[87][88]\\n\\nIn the European Union, the proposed Artificial Intelligence Act includes requirements to disclose copyrighted material used to train generative AI systems, and to label any AI-generated output as such.[89][90]\\n\\nIn China, the Interim Measures for the Management of Generative AI Services introduced by the Cyberspace Administration of China regulates any public-facing generative AI. It includes requirements to watermark generated images or videos, regulations on training data and label quality, restrictions on personal data collection, and a guideline that generative AI must \"adhere to socialist core values\".[91][92]\\n\\nCopyright\\nMain article: Artificial intelligence and copyright\\nTraining with copyrighted content\\nGenerative AI systems such as ChatGPT and Midjourney are trained on large, publicly available datasets that include copyrighted works. AI developers have argued that such training is protected under fair use, while copyright holders have argued that it infringes their rights.[93]\\n\\nProponents of fair use training have argued that it is a transformative use and does not involve making copies of copyrighted works available to the public.[93] Critics have argued that image generators such as Midjourney can create nearly-identical copies of some copyrighted images,[94] and that generative AI programs compete with the content they are trained on.[95]\\n\\nAs of 2024, several lawsuits related to the use of copyrighted material in training are ongoing. Getty Images has sued Stability AI over the use of its images to train Stable diffusion.[96] Both the Authors Guild and The New York Times have sued Microsoft and OpenAI over the use of their works to train ChatGPT.[97][98]\\n\\nCopyright of AI-generated content\\nA separate question is whether AI-generated works can qualify for copyright protection. The United States Copyright Office has ruled that works created by artificial intelligence without any human input cannot be copyrighted, because they lack human authorship.[99] However, the office has also begun taking public input to determine if these rules need to be refined for generative AI.[100]\\n\\nConcerns\\nSee also: Ethics of artificial intelligence and Existential risk from artificial general intelligence\\nThe development of generative AI has raised concerns from governments, businesses, and individuals, resulting in protests, legal actions, calls to pause AI experiments, and actions by multiple governments. In a July 2023 briefing of the United Nations Security Council, Secretary-General António Guterres stated \"Generative AI has enormous potential for good and evil at scale\", that AI may \"turbocharge global development\" and contribute between $10 and $15 trillion to the global economy by 2030, but that its malicious use \"could cause horrific levels of death and destruction, widespread trauma, and deep psychological damage on an unimaginable scale\".[101]\\n\\nJob losses\\n\\nA picketer at the 2023 Writers Guild of America strike. While not a top priority, one of the WGA\\'s 2023 requests was \"regulations around the use of (generative) AI\".[102]\\nMain articles: Workplace impact of artificial intelligence and Technological unemployment\\nFrom the early days of the development of AI, there have been arguments put forward by ELIZA creator Joseph Weizenbaum and others about whether tasks that can be done by computers actually should be done by them, given the difference between computers and humans, and between quantitative calculations and qualitative, value-based judgements.[103] In April 2023, it was reported that image generation AI has resulted in 70% of the jobs for video game illustrators in China being lost.[104][105] In July 2023, developments in generative AI contributed to the 2023 Hollywood labor disputes. Fran Drescher, president of the Screen Actors Guild, declared that \"artificial intelligence poses an existential threat to creative professions\" during the 2023 SAG-AFTRA strike.[106] Voice generation AI has been seen as a potential challenge to the voice acting sector.[107][108]\\n\\nThe intersection of AI and employment concerns among underrepresented groups globally remains a critical facet. While AI promises efficiency enhancements and skill acquisition, concerns about job displacement and biased recruiting processes persist among these groups, as outlined in surveys by Fast Company. To leverage AI for a more equitable society, proactive steps encompass mitigating biases, advocating transparency, respecting privacy and consent, and embracing diverse teams and ethical considerations. Strategies involve redirecting policy emphasis on regulation, inclusive design, and education\\'s potential for personalized teaching to maximize benefits while minimizing harms.[109]\\n\\nRacial and gender bias\\nGenerative AI models can reflect and amplify any cultural bias present in the underlying data. For example, a language model might assume that doctors and judges are male, and that secretaries or nurses are female, if those biases are common in the training data.[110] Similarly, an image model prompted with the text \"a photo of a CEO\" might disproportionately generate images of white male CEOs,[111] if trained on a racially biased data set. A number of methods for mitigating bias have been attempted, such as altering input prompts[112] and reweighting training data.[113]\\n\\nDeepfakes\\nMain article: Deepfake\\nDeepfakes (a portmanteau of \"deep learning\" and \"fake\"[114]) are AI-generated media that take a person in an existing image or video and replace them with someone else\\'s likeness using artificial neural networks.[115] Deepfakes have garnered widespread attention and concerns for their uses in deepfake celebrity pornographic videos, revenge porn, fake news, hoaxes, health disinformation, and financial fraud.[116][117][118][119][120] This has elicited responses from both industry and government to detect and limit their use.[121][122]\\n\\nIn July 2023, the fact-checking company Logically found that the popular generative AI models Midjourney, DALL-E 2 and Stable Diffusion would produce plausible disinformation images when prompted to do so, such as images of electoral fraud in the United States and Muslim women supporting India\\'s Hindu nationalist Bharatiya Janata Party.[123][124]\\n\\nIn April 2024, a paper proposed to use blockchain (distributed ledger technology) to promote \"transparency, verifiability, and decentralization in AI development and usage\".[125]\\n\\nAudio deepfakes\\nMain article: Audio deepfake\\nInstances of users abusing software to generate controversial statements in the vocal style of celebrities, public officials, and other famous individuals have raised ethical concerns over voice generation AI.[126][127][128][129][130][131] In response, companies such as ElevenLabs have stated that they would work on mitigating potential abuse through safeguards and identity verification.[132]\\n\\nConcerns and fandom have spawned from AI-generated music. The same software used to clone voices has been used on famous musicians\\' voices to create songs that mimic their voices, gaining both tremendous popularity and criticism.[133][134][135] Similar techniques have also been used to create improved quality or full-length versions of songs that have been leaked or have yet to be released.[136]\\n\\nGenerative AI has also been used to create new digital artist personalities, with some of these receiving enough attention to receive record deals at major labels.[137] The developers of these virtual artists have also faced their fair share of criticism for their personified programs, including backlash for \"dehumanizing\" an artform, and also creating artists which create unrealistic or immoral appeals to their audiences.[138]\\n\\nCybercrime\\nGenerative AI\\'s ability to create realistic fake content has been exploited in numerous types of cybercrime, including phishing scams.[139] Deepfake video and audio have been used to create disinformation and fraud. Former Google fraud czar Shuman Ghosemajumder has predicted that while deepfake videos initially created a stir in the media, they would soon become commonplace, and as a result, more dangerous.[140] Additionally, large-language models and other forms of text-generation AI have been at a broad scale to create fake reviews on e-commerce websites to boost ratings.[141] Cybercriminals have created large language models focused on fraud, including WormGPT and FraudGPT.[142]\\n\\nRecent research done in 2023 has revealed that generative AI has weaknesses that can be manipulated by criminals to extract harmful information bypassing ethical safeguards. The study presents example attacks done on ChatGPT including Jailbreaks and reverse psychology. Additionally, malicious individuals can use ChatGPT for social engineering attacks and phishing attacks, revealing the harmful side of these technologies.[143]\\n\\nReliance on industry giants\\nTraining frontier AI models requires an enormous amount of computing power. Usually only Big Tech companies have the financial resources to make such investments. Smaller startups such as Cohere and OpenAI end up buying access to data centers from Google and Microsoft respectively.[144]',\n",
       " 'number': 5,\n",
       " 'subject': 'Generative AI',\n",
       " 'tone': 'simple',\n",
       " 'response_json': '{\"1\": {\"mcq\": \"multiple choice question\", \"options\": {\"a\": \"answer1\", \"b\": \"answer2\", \"c\": \"answer3\", \"d\": \"answer4\"}, \"correct\": \"correcr answer\"}, \"2\": {\"mcq\": \"multiple choice question\", \"options\": {\"a\": \"answer1\", \"b\": \"answer2\", \"c\": \"answer3\", \"d\": \"answer4\"}, \"correct\": \"correcr answer\"}, \"3\": {\"mcq\": \"multiple choice question\", \"options\": {\"a\": \"answer1\", \"b\": \"answer2\", \"c\": \"answer3\", \"d\": \"answer4\"}, \"correct\": \"correcr answer\"}}',\n",
       " 'quiz': '{\\n  \"1\": {\\n    \"mcq\": \"What does generative AI primarily do?\",\\n    \"options\": {\\n      \"a\": \"Generate data in response to prompts\",\\n      \"b\": \"Only process existing data\",\\n      \"c\": \"Store historical data\",\\n      \"d\": \"Secure data from cyber threats\"\\n    },\\n    \"correct\": \"a\"\\n  },\\n  \"2\": {\\n    \"mcq\": \"Which of the following is NOT a type of generative AI model mentioned in the text?\",\\n    \"options\": {\\n      \"a\": \"Text-to-Image models\",\\n      \"b\": \"Text-to-Video models\",\\n      \"c\": \"Text-to-Speech models\",\\n      \"d\": \"Text-to-Emotion models\"\\n    },\\n    \"correct\": \"d\"\\n  },\\n  \"3\": {\\n    \"mcq\": \"What significant advancement in AI occurred in 2017?\",\\n    \"options\": {\\n      \"a\": \"Release of GPT-4\",\\n      \"b\": \"Introduction of the Transformer network\",\\n      \"c\": \"Development of audio deepfakes\",\\n      \"d\": \"Creation of the first AI-generated video\"\\n    },\\n    \"correct\": \"b\"\\n  },\\n  \"4\": {\\n    \"mcq\": \"What is a major concern regarding the misuse of generative AI?\",\\n    \"options\": {\\n      \"a\": \"Improvement of job efficiency\",\\n      \"b\": \"Creation of deepfakes and fake news\",\\n      \"c\": \"Enhancement of customer service\",\\n      \"d\": \"Development of new programming languages\"\\n    },\\n    \"correct\": \"b\"\\n  },\\n  \"5\": {\\n    \"mcq\": \"Which country is reported to be leading in the adoption of generative AI?\",\\n    \"options\": {\\n      \"a\": \"United States\",\\n      \"b\": \"China\",\\n      \"c\": \"India\",\\n      \"d\": \"Germany\"\\n    },\\n    \"correct\": \"b\"\\n  }\\n}',\n",
       " 'review': '**Complexity Analysis:**\\nThe quiz questions are generally appropriate for students studying generative AI, focusing on basic definitions, historical developments, and ethical concerns. However, the questions could benefit from enhanced cognitive engagement and analytical depth. \\n\\n**Updated Quiz Questions:**\\n\\n```json\\n{\\n  \"1\": {\\n    \"mcq\": \"What is the core function of generative AI?\",\\n    \"options\": {\\n      \"a\": \"To create new content based on input data\",\\n      \"b\": \"To analyze and categorize existing data\",\\n      \"c\": \"To archive information for future reference\",\\n      \"d\": \"To protect data from unauthorized access\"\\n    },\\n    \"correct\": \"a\"\\n  },\\n  \"2\": {\\n    \"mcq\": \"Identify the model type that is NOT typically associated with generative AI.\",\\n    \"options\": {\\n      \"a\": \"Text-to-Image models\",\\n      \"b\": \"Text-to-Video models\",\\n      \"c\": \"Text-to-Speech models\",\\n      \"d\": \"Text-to-Emotion models\"\\n    },\\n    \"correct\": \"d\"\\n  },\\n  \"3\": {\\n    \"mcq\": \"In 2017, which breakthrough significantly influenced the evolution of AI technologies?\",\\n    \"options\": {\\n      \"a\": \"Launch of GPT-4\",\\n      \"b\": \"Invention of the Transformer architecture\",\\n      \"c\": \"Advancements in audio deepfake technology\",\\n      \"d\": \"First demonstration of AI-generated video\"\\n    },\\n    \"correct\": \"b\"\\n  },\\n  \"4\": {\\n    \"mcq\": \"What is a prominent ethical issue associated with generative AI?\",\\n    \"options\": {\\n      \"a\": \"Boosting productivity across sectors\",\\n      \"b\": \"Facilitating the creation of misleading media\",\\n      \"c\": \"Improving customer engagement strategies\",\\n      \"d\": \"Innovating programming frameworks\"\\n    },\\n    \"correct\": \"b\"\\n  },\\n  \"5\": {\\n    \"mcq\": \"Which nation is recognized as a frontrunner in the implementation of generative AI?\",\\n    \"options\": {\\n      \"a\": \"United States\",\\n      \"b\": \"China\",\\n      \"c\": \"India\",\\n      \"d\": \"Germany\"\\n    },\\n    \"correct\": \"b\"\\n  }\\n}\\n```\\n\\n**Rationale for Changes:**\\n1. **Clarity and Engagement:** Updated wording for clarity and engagement while maintaining essential content.\\n2. **Cognitive Depth:** Enhanced phrasing encourages critical thinking by inviting students to reflect on the implications of generative AI.\\n3. **Tone and Complexity:** Adjusted tone to be slightly more formal and analytical, aligning with students\\' cognitive abilities.'}"
      ]
     },
     "execution_count": 87,
     "metadata": {},
     "output_type": "execute_result"
    }
   ],
   "source": [
    "response"
   ]
  },
  {
   "cell_type": "code",
   "execution_count": 88,
   "metadata": {},
   "outputs": [],
   "source": [
    "quiz=response.get('quiz')"
   ]
  },
  {
   "cell_type": "code",
   "execution_count": 97,
   "metadata": {},
   "outputs": [],
   "source": [
    "quiz=json.loads(quiz)"
   ]
  },
  {
   "cell_type": "code",
   "execution_count": 98,
   "metadata": {},
   "outputs": [],
   "source": [
    "review=response.get('review')"
   ]
  },
  {
   "cell_type": "markdown",
   "metadata": {},
   "source": [
    "**Complexity Analysis:**\n",
    "The quiz questions are generally appropriate for students studying generative AI, focusing on basic definitions, historical developments, and ethical concerns. However, the questions could benefit from enhanced cognitive engagement and analytical depth. \n",
    "\n",
    "**Updated Quiz Questions:**\n",
    "\n",
    "```json\n",
    "{\n",
    "  \"1\": {\n",
    "    \"mcq\": \"What is the core function of generative AI?\",\n",
    "    \"options\": {\n",
    "      \"a\": \"To create new content based on input data\",\n",
    "      \"b\": \"To analyze and categorize existing data\",\n",
    "      \"c\": \"To archive information for future reference\",\n",
    "      \"d\": \"To protect data from unauthorized access\"\n",
    "    },\n",
    "    \"correct\": \"a\"\n",
    "  },\n",
    "  \"2\": {\n",
    "    \"mcq\": \"Identify the model type that is NOT typically associated with generative AI.\",\n",
    "    \"options\": {\n",
    "      \"a\": \"Text-to-Image models\",\n",
    "      \"b\": \"Text-to-Video models\",\n",
    "      \"c\": \"Text-to-Speech models\",\n",
    "      \"d\": \"Text-to-Emotion models\"\n",
    "    },\n",
    "}\n",
    "```\n",
    "**Rationale for Changes:**\n",
    "1. **Clarity and Engagement:** Updated wording for clarity and engagement while maintaining essential content.\n",
    "2. **Cognitive Depth:** Enhanced phrasing encourages critical thinking by inviting students to reflect on the implications of generative AI.\n",
    "3. **Tone and Complexity:** Adjusted tone to be slightly more formal and analytical, aligning with students' cognitive abilities."
   ]
  },
  {
   "cell_type": "code",
   "execution_count": 102,
   "metadata": {},
   "outputs": [],
   "source": [
    "quiz_table_data = []\n",
    "for key, value in quiz.items():\n",
    "    mcq = value['mcq']\n",
    "    options = \" | \".join(\n",
    "        [\n",
    "            f\"{option}: {option_value}\"\n",
    "            for option, option_value in value['options'].items()\n",
    "        ]\n",
    "    )\n",
    "    correct = value['correct']\n",
    "    quiz_table_data.append({\"MCQ\": mcq, \"Choices\": options, \"Correct\": correct})"
   ]
  },
  {
   "cell_type": "code",
   "execution_count": 107,
   "metadata": {},
   "outputs": [
    {
     "data": {
      "text/plain": [
       "[{'MCQ': 'What does generative AI primarily do?',\n",
       "  'Choices': 'a: Generate data in response to prompts | b: Only process existing data | c: Store historical data | d: Secure data from cyber threats',\n",
       "  'Correct': 'a'},\n",
       " {'MCQ': 'Which of the following is NOT a type of generative AI model mentioned in the text?',\n",
       "  'Choices': 'a: Text-to-Image models | b: Text-to-Video models | c: Text-to-Speech models | d: Text-to-Emotion models',\n",
       "  'Correct': 'd'},\n",
       " {'MCQ': 'What significant advancement in AI occurred in 2017?',\n",
       "  'Choices': 'a: Release of GPT-4 | b: Introduction of the Transformer network | c: Development of audio deepfakes | d: Creation of the first AI-generated video',\n",
       "  'Correct': 'b'},\n",
       " {'MCQ': 'What is a major concern regarding the misuse of generative AI?',\n",
       "  'Choices': 'a: Improvement of job efficiency | b: Creation of deepfakes and fake news | c: Enhancement of customer service | d: Development of new programming languages',\n",
       "  'Correct': 'b'},\n",
       " {'MCQ': 'Which country is reported to be leading in the adoption of generative AI?',\n",
       "  'Choices': 'a: United States | b: China | c: India | d: Germany',\n",
       "  'Correct': 'b'}]"
      ]
     },
     "execution_count": 107,
     "metadata": {},
     "output_type": "execute_result"
    }
   ],
   "source": [
    "quiz_table_data"
   ]
  },
  {
   "cell_type": "code",
   "execution_count": 111,
   "metadata": {},
   "outputs": [],
   "source": [
    "# !pip install numpy --upgrade"
   ]
  },
  {
   "cell_type": "code",
   "execution_count": 114,
   "metadata": {},
   "outputs": [],
   "source": [
    "import pandas as pd\n",
    "quiz=pd.DataFrame(quiz_table_data)"
   ]
  },
  {
   "cell_type": "code",
   "execution_count": 117,
   "metadata": {},
   "outputs": [],
   "source": [
    "quiz.to_csv(\"generativeai.csv\", index=False)"
   ]
  },
  {
   "cell_type": "code",
   "execution_count": null,
   "metadata": {},
   "outputs": [],
   "source": []
  }
 ],
 "metadata": {
  "kernelspec": {
   "display_name": "Python 3",
   "language": "python",
   "name": "python3"
  },
  "language_info": {
   "codemirror_mode": {
    "name": "ipython",
    "version": 3
   },
   "file_extension": ".py",
   "mimetype": "text/x-python",
   "name": "python",
   "nbconvert_exporter": "python",
   "pygments_lexer": "ipython3",
   "version": "3.12.4"
  }
 },
 "nbformat": 4,
 "nbformat_minor": 2
}
